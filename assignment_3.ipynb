{
 "cells": [
  {
   "cell_type": "markdown",
   "metadata": {},
   "source": [
    "                                   Ans to the Q No-1 \n",
    "                                   \n",
    "                                   \n",
    "  Functions reduce the need for duplicate code. This makes programs shorter, easier to read, and easier to update. \n",
    "  "
   ]
  },
  {
   "cell_type": "markdown",
   "metadata": {},
   "source": [
    "                                    Ans to the Q No-2\n",
    "                                    \n",
    "                                    \n",
    "  The code in a function run when the function is called, not when the function is specified.                                  \n",
    "    "
   ]
  },
  {
   "cell_type": "markdown",
   "metadata": {},
   "source": [
    "                                    Ans to the Q No-3\n",
    "                                    \n",
    "                                    \n",
    "  The def statement creates a function.                                  "
   ]
  },
  {
   "cell_type": "markdown",
   "metadata": {},
   "source": [
    "                                     Ans to the Q No-4\n",
    "                                     \n",
    "                                     \n",
    "                                     \n",
    " A function consists of the def statement and the code in its def clause.\n",
    " \n",
    " def fun: \n",
    "     this is a function.\n",
    " \n",
    "\n",
    "A function call is what moves the program execution into the function, and the function call evaluates to the function's return value. \n",
    "\n",
    "  fun()"
   ]
  },
  {
   "cell_type": "markdown",
   "metadata": {},
   "source": [
    "                            Ans to the Q No-5\n",
    "                            \n",
    "\n",
    "There is one global scope and a local scope is created whenever a function is called"
   ]
  },
  {
   "cell_type": "markdown",
   "metadata": {},
   "source": [
    "                           Ans to the Q No-6\n",
    "                           \n",
    "                           \n",
    "When a function call returns, the local scope is destroyed and all the variables in it are forgotten."
   ]
  },
  {
   "cell_type": "markdown",
   "metadata": {},
   "source": [
    "                             Ans to the Q No-7\n",
    "                             \n",
    "                             \n",
    "    A return value is the value that a function call evaluates to. A return value can be used as part of an expression.                         "
   ]
  },
  {
   "cell_type": "markdown",
   "metadata": {},
   "source": [
    "                          Ans to the Q No-8\n",
    "                          \n",
    "                          \n",
    "     If there is no return statement for a function then  its return value is None.                     "
   ]
  },
  {
   "cell_type": "markdown",
   "metadata": {},
   "source": [
    "                         Ans to the Q No-9\n",
    "                         \n",
    "                         \n",
    "                         \n",
    "    A global statement will force a variable in a function to refer to the global variable.\n",
    "    example:\n",
    "    x=10\n",
    "    def fun:\n",
    "        x=20\n",
    "        print(x) #20\n",
    "    print(x)  #20    \n",
    "        "
   ]
  },
  {
   "cell_type": "markdown",
   "metadata": {},
   "source": [
    "                         Ans to the Q No-10\n",
    "                         \n",
    "                         \n",
    "     The data type of None is NoneType.                    "
   ]
  },
  {
   "cell_type": "markdown",
   "metadata": {},
   "source": [
    "                         Ans to the Q No-11\n",
    "                         \n",
    "                         \n",
    "   That import statement imports a module named areallyourpetsnamederic.                      "
   ]
  },
  {
   "cell_type": "markdown",
   "metadata": {},
   "source": [
    "                           Ans to the Q No-12\n",
    "                           \n",
    "    \n",
    "    \n",
    "  This function can be called with spam.bacon()  "
   ]
  },
  {
   "cell_type": "markdown",
   "metadata": {},
   "source": [
    "                             Ans to the Q No-13\n",
    "                             \n",
    "\n",
    "Place the line of code that might cause an error in a try clause."
   ]
  },
  {
   "cell_type": "code",
   "execution_count": null,
   "metadata": {},
   "outputs": [],
   "source": [
    "                         Ans to the Q No-14\n",
    "    \n",
    "    \n",
    "    \n",
    "    The code that could potentially cause an error goes in the try clause.\n",
    "\n",
    "The code that executes if an error happens goes in the except clause."
   ]
  },
  {
   "cell_type": "code",
   "execution_count": null,
   "metadata": {},
   "outputs": [],
   "source": []
  },
  {
   "cell_type": "code",
   "execution_count": null,
   "metadata": {},
   "outputs": [],
   "source": []
  },
  {
   "cell_type": "code",
   "execution_count": null,
   "metadata": {},
   "outputs": [],
   "source": []
  },
  {
   "cell_type": "code",
   "execution_count": null,
   "metadata": {},
   "outputs": [],
   "source": []
  }
 ],
 "metadata": {
  "kernelspec": {
   "display_name": "Python 3",
   "language": "python",
   "name": "python3"
  },
  "language_info": {
   "codemirror_mode": {
    "name": "ipython",
    "version": 3
   },
   "file_extension": ".py",
   "mimetype": "text/x-python",
   "name": "python",
   "nbconvert_exporter": "python",
   "pygments_lexer": "ipython3",
   "version": "3.8.5"
  }
 },
 "nbformat": 4,
 "nbformat_minor": 4
}
